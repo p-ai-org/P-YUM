{
 "cells": [
  {
   "cell_type": "markdown",
   "metadata": {},
   "source": [
    "### Speech Recognition (Speed of Videos)"
   ]
  },
  {
   "cell_type": "code",
   "execution_count": 7,
   "metadata": {},
   "outputs": [],
   "source": [
    "# Most imports are for testing purposes only.\n",
    "import os\n",
    "import shutil\n",
    "import cv2\n",
    "import re\n",
    "import speech_recognition as sr\n",
    "import moviepy.editor as mp\n",
    "from pathlib import Path\n",
    "from pydub import AudioSegment\n",
    "from pydub.utils import make_chunks\n"
   ]
  },
  {
   "cell_type": "markdown",
   "metadata": {},
   "source": [
    "#### If you have the video script and length of video...\n",
    "Take total amount of words and divide by video time. \\\n",
    "This is really obvious, but I'm just writing this in case someone from the YouTube scraping team have these values already"
   ]
  },
  {
   "cell_type": "code",
   "execution_count": 8,
   "metadata": {},
   "outputs": [],
   "source": [
    "# input: string_script: the subtitles of a video as a string\n",
    "# input: video length: a string in HH:MM:SS format (hours, minutes, seconds)\n",
    "# not sure if this is the output from the YouTube API. If not, should be a quick fix.\n",
    "\n",
    "# output: number of words per second\n",
    "\n",
    "def string_speed(string_script, video_length):\n",
    "    # 3600 seconds in an hour, 60 seconds in a minute, 1 second in a second\n",
    "    second_converter = [3600, 60, 1]\n",
    "    time_in_sec = 0\n",
    "    for i in range(3):\n",
    "        time_in_sec += (second_converter[i] * int(video_length.split(\":\")[i]))\n",
    "\n",
    "    num_words = len(string_script.split())\n",
    "\n",
    "    print(\"The number of words per second is\", num_words / time_in_sec)\n",
    "\n",
    "    return num_words / time_in_sec\n"
   ]
  },
  {
   "cell_type": "markdown",
   "metadata": {},
   "source": [
    "#### If you only have the video file (and perhaps not even the subtitles)...\n",
    "This program assumes that you have the video in question locally."
   ]
  },
  {
   "cell_type": "code",
   "execution_count": 9,
   "metadata": {},
   "outputs": [
    {
     "data": {
      "text/plain": [
       "\"c:\\\\Users\\\\brian\\\\Desktop\\\\PYUM\\\\P-YUM\\\\Binging with Babish_ Patrick's Briefcase from SpongeBob SquarePants.mp4\""
      ]
     },
     "execution_count": 9,
     "metadata": {},
     "output_type": "execute_result"
    }
   ],
   "source": [
    "# getting video path\n",
    "current = %pwd\n",
    "from pathlib import Path\n",
    "path = Path(current)\n",
    "filename = str(path.parent.absolute())\n",
    "video_name = \"Binging with Babish_ Patrick's Briefcase from SpongeBob SquarePants.mp4\"\n",
    "filename += '\\\\' + video_name\n",
    "filename"
   ]
  },
  {
   "cell_type": "code",
   "execution_count": 10,
   "metadata": {},
   "outputs": [],
   "source": [
    "# input: the video file\n",
    "# output: length of video file in seconds\n",
    "\n",
    "def find_video_length(filename):\n",
    "\n",
    "    video = cv2.VideoCapture(filename)\n",
    "\n",
    "    fps = video.get(cv2.CAP_PROP_FPS)\n",
    "    frame_count = video.get(cv2.CAP_PROP_FRAME_COUNT)\n",
    "\n",
    "    return frame_count / fps\n"
   ]
  },
  {
   "cell_type": "code",
   "execution_count": 11,
   "metadata": {},
   "outputs": [
    {
     "name": "stdout",
     "output_type": "stream",
     "text": [
      "MoviePy - Writing audio in converted.wav\n"
     ]
    },
    {
     "name": "stderr",
     "output_type": "stream",
     "text": [
      "                                                                      "
     ]
    },
    {
     "name": "stdout",
     "output_type": "stream",
     "text": [
      "MoviePy - Done.\n"
     ]
    },
    {
     "name": "stderr",
     "output_type": "stream",
     "text": [
      "\r"
     ]
    }
   ],
   "source": [
    "# input: video file (string)\n",
    "# output: audio file (audio from video)\n",
    "# audio file named \"converted.wav\"\n",
    "# audio file MUST BE LOSSLESS\n",
    "def vid_to_audio(filename):\n",
    "    clip = mp.VideoFileClip(filename)\n",
    "    mp3_clip = clip.audio.write_audiofile(r\"converted.wav\")\n",
    "\n",
    "\n",
    "vid_to_audio(filename)"
   ]
  },
  {
   "cell_type": "code",
   "execution_count": 12,
   "metadata": {},
   "outputs": [],
   "source": [
    "# we must split the videos into smaller chunks because the voice\n",
    "# recognizer feature doesn't work for files that are larger than\n",
    "# 10 megabytes.\n",
    "# input: name of audio file\n",
    "# output: a new folder called \"chunked\" contains 30 second clips of video\n",
    "def process_sudio(file_name):\n",
    "    myaudio = AudioSegment.from_file(file_name, \"wav\")\n",
    "    chunk_length_ms = 30000  # in milliseconds\n",
    "    chunks = make_chunks(myaudio, chunk_length_ms)  # Make chunks of one sec\n",
    "    for i, chunk in enumerate(chunks):\n",
    "        chunk_name = './chunked/' + file_name + \"_{0}.wav\".format(i)\n",
    "        chunk.export(chunk_name, format=\"wav\")\n",
    "\n",
    "\n",
    "all_file_names = os.listdir()\n",
    "try:\n",
    "    os.makedirs('chunked')\n",
    "except:\n",
    "    pass\n",
    "for each_file in all_file_names:\n",
    "    if ('.wav' in each_file):\n",
    "        process_sudio(each_file)\n",
    "os.remove(\"converted.wav\")  # delete the original wav file.\n"
   ]
  },
  {
   "cell_type": "code",
   "execution_count": 13,
   "metadata": {},
   "outputs": [],
   "source": [
    "# define recognizer\n",
    "r = sr.Recognizer()\n"
   ]
  },
  {
   "cell_type": "code",
   "execution_count": 14,
   "metadata": {},
   "outputs": [],
   "source": [
    "# actually converts the audio file into text\n",
    "# input: wav audio file\n",
    "# output: the speech in string format\n",
    "def speech_converter(wav_file):\n",
    "    wav_name = './chunked/' + wav_file\n",
    "    audio = sr.AudioFile(wav_name)\n",
    "    \n",
    "    with audio as source:\n",
    "        audio_file = r.record(source)\n",
    "    result = r.recognize_google(audio_file)\n",
    "    return result\n",
    "\n"
   ]
  },
  {
   "cell_type": "code",
   "execution_count": 15,
   "metadata": {},
   "outputs": [
    {
     "name": "stdout",
     "output_type": "stream",
     "text": [
      "Either speech isn't being recognized (for this chunk) or the speech recognition doesn't like your request.\n"
     ]
    }
   ],
   "source": [
    "list_of_chunks_words = []\n",
    "\n",
    "path = \"./\"\n",
    "AllFiles = list(os.walk(path))\n",
    "counter = 0\n",
    "for item in AllFiles:\n",
    "    foldername, LoDirs, LoFiles = item   # cool unpacking!\n",
    "\n",
    "    for filename_thing in LoFiles:\n",
    "        if filename_thing[-3:] == \"wav\":\n",
    "            counter += 1\n",
    "            try:\n",
    "                thirty_sec = speech_converter(filename_thing)\n",
    "            except:\n",
    "                print(\"\"\"Either speech isn't being recognized (for this chunk) or the speech recognition doesn't like your request.\"\"\")\n",
    "            list_of_chunks_words.append(thirty_sec)\n",
    "\n"
   ]
  },
  {
   "cell_type": "code",
   "execution_count": 16,
   "metadata": {},
   "outputs": [],
   "source": [
    "entire_script = ''\n",
    "for chunks in list_of_chunks_words:\n",
    "    entire_script += \" \" + chunks\n",
    "\n",
    "with open('final_output.txt', mode='w') as script_file:\n",
    "    script_file.write(entire_script)\n"
   ]
  },
  {
   "cell_type": "code",
   "execution_count": 17,
   "metadata": {},
   "outputs": [
    {
     "data": {
      "text/plain": [
       "\" this episode is brought to you by cash app when personal finance connects you to both your funds and stuff that matters that's money and that's cash app you know what else has money cracking two eggs at once perfectly on the first try using a torch to overcome your fear of bananas and of course packing a healthy lunch for work that's money that's cash app download cash app from the app store or Google Play Store today to add your cash tag to the 80 million and Counting real bad thing by the way you forgot your briefcase real bad thing by the way you forgot your briefcase traps to accommodate our overtime lunch for which going to need a whole lot of donuts and since we want lots of variety I think cake Donuts our best bet for basic vanilla donut with starting up by combining 240 G of all-purpose flour with 200 g of granulated sugar 100 G of brown sugar whisk together the dry and so to the wet underneath middle of whole milk 75 of vegetable oil 1 tbsp of vanilla paste and two large eggs cracked and broken in their however you like Plaza don't get any shell in there it's no big I like your posting a cooking show what's the wet stuff until the modulus and then add to the dry stuff standard cake batter procedure gently fold together until no dry cleanser Main and mostly imagine it's not completely smooth but pretty much there that is going to thicken as we allow the flower to hydrate over the next 10 minutes which is going to do in a pastry bag or is it that plastic bag with Corner cutoff for piping we are thoroughly greasing the cavities of our donut pans number to fill our cavities but halfway with donut batter much better once these guys are 350 degree Fahrenheit oven for 10 to 12 minutes until they emerge golden brown and 200-210 degrees Fahrenheit at the lot of cool in the pan for 10 minutes before a cooling rack is super easy just like a chocolate cookies were simply swapping out an amount of flour in this case is 65 G for cocoa powder and that's it that's all you really need to do procedure is very much the same and baking for at least 12 minutes or until we get a good tent that they're fixed point now the only other modifier that I'm going to do the actual donut batter is to make a maple donut achieve simply by replacing our granulated sugar with 3/4 of a cup or 175 ml of maple syrup and reducing the amount of milk by 75ml to account for the extra moisture at the maple syrup to the wet stuff instead of the dry and you got yourself the make list of Maple Donuts my personal favorite now to introduce some variations on the theme I'm making more vanilla donuts and subdivided batter down in 3 Egyptian the flavor differently for Stuff a tablespoon of poppy seeds and a half teaspoon of lemon oil next simply add rainbow sprinkles and you got yourself some instant birthday cake batter lastly a tablespoon of matcha which I would recommend you replace flour with the original rest because this may be a little too thick but still works piping big as usual when we got ourselves some fun spins on the original formula Each of which we can whimsically Frost accordingly now it's leftover Maple batter and my dad some frozen blueberries for some very obviously awesome Maple blueberry Bennett imagine making breakfast sandwich variations of a chocolate going super simple starting some raspberry extract for chocolate raspberry donut the tbsp of espresso powder for chocolate coffee donut and a splash of Grand Marnier for a chocolate orange donut glaze them Each of which were going to make by combining about a cup of powdered sugar with a small amount of flavorful liquid like maple syrup to get milk blueberry juice cool coffee whatever is relevant to the individual donut so there's are doesn't lovely Donuts which we can now arranging our briefcase for Easy Transport to and from work but there's something missing are two things first up a banana split so you guys will check dates on me when I worked at the chocolate room in Brooklyn wear for a banana split we would obviously split banana sprinkled with sugar and then torch it for an instant banana brulee or banana split Foster or whatever it is you want to call it just make sure cool completely before peeling and serving a left I've a simple vanilla milkshake with whipped cream and on the right I'm assembling our banana split with three scoops of vanilla ice cream or the ice cream if your choice flight to buy are banana brulee that was too lazy to make and finished with three bright red maraschino cherries and there you have it folks Patrick's desert briefcase with more arts and crafts than usual but I think you'll agree pretty worth it at least just didn't see it in real life wouldn't say it's the most practical working lunch but everybody at the office if you like it thank you and the cash app that's money that's cash app download cash app from the app store Google Play Store today dad your cash tag is 280 million and Counting\""
      ]
     },
     "execution_count": 17,
     "metadata": {},
     "output_type": "execute_result"
    }
   ],
   "source": [
    "entire_script"
   ]
  },
  {
   "cell_type": "code",
   "execution_count": 18,
   "metadata": {},
   "outputs": [
    {
     "name": "stdout",
     "output_type": "stream",
     "text": [
      "Your video had around 0.342894578313253 words per second\n"
     ]
    }
   ],
   "source": [
    "num_of_words = len(entire_script.split())\n",
    "length_of_vid = find_video_length(filename)\n",
    "print(f'Your video had around {length_of_vid / num_of_words} words per second')"
   ]
  },
  {
   "cell_type": "code",
   "execution_count": 19,
   "metadata": {},
   "outputs": [],
   "source": [
    "# deletes the wav files\n",
    "\n",
    "def clear_wav():\n",
    "    try:\n",
    "        shutil.rmtree(\"chunked\")\n",
    "    except:\n",
    "        print(\"No chunked directory found\")\n",
    "\n",
    "clear_wav()"
   ]
  }
 ],
 "metadata": {
  "kernelspec": {
   "display_name": "Python 3.10.5 64-bit",
   "language": "python",
   "name": "python3"
  },
  "language_info": {
   "codemirror_mode": {
    "name": "ipython",
    "version": 3
   },
   "file_extension": ".py",
   "mimetype": "text/x-python",
   "name": "python",
   "nbconvert_exporter": "python",
   "pygments_lexer": "ipython3",
   "version": "3.10.5"
  },
  "orig_nbformat": 4,
  "vscode": {
   "interpreter": {
    "hash": "51923b56f38a5b3424ee861e1200c08869906ff2215aafed0340f54392de6f99"
   }
  }
 },
 "nbformat": 4,
 "nbformat_minor": 2
}
