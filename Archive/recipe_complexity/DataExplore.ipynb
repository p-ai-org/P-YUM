{
 "cells": [
  {
   "cell_type": "code",
   "execution_count": 1,
   "metadata": {},
   "outputs": [],
   "source": [
    "import pandas as pd\n",
    "import numpy as np\n",
    "import matplotlib.pyplot as plt\n",
    "import sys\n",
    "import TranslateTokens\n",
    "import ReadData"
   ]
  },
  {
   "cell_type": "code",
   "execution_count": 2,
   "metadata": {},
   "outputs": [],
   "source": [
    "data_all = pd.read_csv(\"nyt-ingredients-set.csv\")"
   ]
  },
  {
   "cell_type": "code",
   "execution_count": 3,
   "metadata": {},
   "outputs": [
    {
     "data": {
      "text/plain": [
       "<bound method DataFrame.info of          index                                              input  \\\n",
       "0            0  1 1/4 cups cooked and pureed fresh butternut s...   \n",
       "1            1  1 cup peeled and cooked fresh chestnuts (about...   \n",
       "2            2            1 medium-size onion, peeled and chopped   \n",
       "3            3                    2 stalks celery, chopped coarse   \n",
       "4            4                    1 1/2 tablespoons vegetable oil   \n",
       "...        ...                                                ...   \n",
       "179202  179202                            3/4 oz. pineapple juice   \n",
       "179203  179203                           1 tsp. fresh lemon juice   \n",
       "179204  179204                                  Angostura bitters   \n",
       "179205  179205                                 Wedge of pineapple   \n",
       "179206  179206                                    Brandied cherry   \n",
       "\n",
       "                     name   qty  range_end        unit  \\\n",
       "0        butternut squash  1.25        0.0         cup   \n",
       "1               chestnuts  1.00        0.0         cup   \n",
       "2                   onion  1.00        0.0         NaN   \n",
       "3                  celery  2.00        0.0       stalk   \n",
       "4           vegetable oil  1.50        0.0  tablespoon   \n",
       "...                   ...   ...        ...         ...   \n",
       "179202    pineapple juice  0.75        0.0       ounce   \n",
       "179203        lemon juice  1.00        0.0    teaspoon   \n",
       "179204  Angostura bitters  0.00        0.0         NaN   \n",
       "179205          pineapple  1.00        0.0       wedge   \n",
       "179206    Brandied cherry  0.00        0.0         NaN   \n",
       "\n",
       "                                                  comment  \n",
       "0       cooked and pureed fresh, or 1 10-ounce package...  \n",
       "1       peeled and cooked fresh (about 20), or 1 cup c...  \n",
       "2                         medium-size, peeled and chopped  \n",
       "3                                          chopped coarse  \n",
       "4                                                     NaN  \n",
       "...                                                   ...  \n",
       "179202                                                NaN  \n",
       "179203                                              fresh  \n",
       "179204                                                NaN  \n",
       "179205                                                NaN  \n",
       "179206                                                NaN  \n",
       "\n",
       "[179207 rows x 7 columns]>"
      ]
     },
     "execution_count": 3,
     "metadata": {},
     "output_type": "execute_result"
    }
   ],
   "source": [
    "data_all.info"
   ]
  },
  {
   "cell_type": "code",
   "execution_count": 8,
   "metadata": {},
   "outputs": [],
   "source": [
    "def run(path_to_file, outfile):\n",
    "        \"\"\"\n",
    "        Generates training data in the CRF++ format for the ingredient\n",
    "        tagging task\n",
    "        \"\"\"\n",
    "        with open(path_to_file, encoding='utf-8') as data_file:\n",
    "            data_reader = ReadData.Reader(data_file)\n",
    "            for row in data_reader:\n",
    "                # Write the utf-8 encoded data directly to stdout instead of using print\n",
    "                # because print() will output a bytestring like `b\"string\"`.\n",
    "                # sys.stdout.buffer.write(TranslateTokens.translate_row(row).encode('utf-8'))\n",
    "                # sys.stdout.buffer.write(b'\\n')\n",
    "                print(TranslateTokens.translate_row(row))"
   ]
  },
  {
   "cell_type": "code",
   "execution_count": null,
   "metadata": {},
   "outputs": [],
   "source": []
  }
 ],
 "metadata": {
  "kernelspec": {
   "display_name": "Python 3.10.5 64-bit",
   "language": "python",
   "name": "python3"
  },
  "language_info": {
   "codemirror_mode": {
    "name": "ipython",
    "version": 3
   },
   "file_extension": ".py",
   "mimetype": "text/x-python",
   "name": "python",
   "nbconvert_exporter": "python",
   "pygments_lexer": "ipython3",
   "version": "3.10.5"
  },
  "orig_nbformat": 4,
  "vscode": {
   "interpreter": {
    "hash": "51923b56f38a5b3424ee861e1200c08869906ff2215aafed0340f54392de6f99"
   }
  }
 },
 "nbformat": 4,
 "nbformat_minor": 2
}
