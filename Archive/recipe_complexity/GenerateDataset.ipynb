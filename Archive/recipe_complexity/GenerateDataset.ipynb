{
 "cells": [
  {
   "cell_type": "code",
   "execution_count": 3,
   "metadata": {},
   "outputs": [],
   "source": [
    "import WriteData\n",
    "import TranslateTokens"
   ]
  },
  {
   "cell_type": "code",
   "execution_count": 4,
   "metadata": {},
   "outputs": [],
   "source": [
    "datafile = \"nyt-ingredients-set.csv\""
   ]
  },
  {
   "cell_type": "code",
   "execution_count": 6,
   "metadata": {},
   "outputs": [],
   "source": [
    "datarows = []\n",
    "with open(datafile, encoding = 'utf-8') as data_file:\n",
    "    reader = WriteData.Reader(data_file)\n",
    "    for row in reader:\n",
    "        towrite = TranslateTokens.translate_row(row).encode('utf-8')\n",
    "        datarows.append(towrite)"
   ]
  },
  {
   "cell_type": "code",
   "execution_count": 8,
   "metadata": {},
   "outputs": [
    {
     "name": "stdout",
     "output_type": "stream",
     "text": [
      "179207\n"
     ]
    }
   ],
   "source": [
    "print(len(datarows))"
   ]
  },
  {
   "cell_type": "code",
   "execution_count": 9,
   "metadata": {},
   "outputs": [],
   "source": [
    "training = datarows[0:16000]\n",
    "testing = datarows[16000:179207]"
   ]
  },
  {
   "cell_type": "code",
   "execution_count": 10,
   "metadata": {},
   "outputs": [
    {
     "name": "stdout",
     "output_type": "stream",
     "text": [
      "b'1$1/4\\tI1\\tL20\\tNoCAP\\tNoPAREN\\tB-QTY\\ncups\\tI2\\tL20\\tNoCAP\\tNoPAREN\\tB-UNIT\\ncooked\\tI3\\tL20\\tNoCAP\\tNoPAREN\\tB-COMMENT\\nand\\tI4\\tL20\\tNoCAP\\tNoPAREN\\tI-COMMENT\\npureed\\tI5\\tL20\\tNoCAP\\tNoPAREN\\tI-COMMENT\\nfresh\\tI6\\tL20\\tNoCAP\\tNoPAREN\\tI-COMMENT\\nbutternut\\tI7\\tL20\\tNoCAP\\tNoPAREN\\tB-NAME\\nsquash\\tI8\\tL20\\tNoCAP\\tNoPAREN\\tI-NAME\\n,\\tI9\\tL20\\tNoCAP\\tNoPAREN\\tOTHER\\nor\\tI10\\tL20\\tNoCAP\\tNoPAREN\\tI-COMMENT\\n1\\tI11\\tL20\\tNoCAP\\tNoPAREN\\tI-COMMENT\\n10-ounce\\tI12\\tL20\\tNoCAP\\tNoPAREN\\tI-COMMENT\\npackage\\tI13\\tL20\\tNoCAP\\tNoPAREN\\tI-COMMENT\\nfrozen\\tI14\\tL20\\tNoCAP\\tNoPAREN\\tI-COMMENT\\nsquash\\tI15\\tL20\\tNoCAP\\tNoPAREN\\tB-NAME\\n,\\tI16\\tL20\\tNoCAP\\tNoPAREN\\tOTHER\\ndefrosted\\tI17\\tL20\\tNoCAP\\tNoPAREN\\tI-COMMENT\\n'\n"
     ]
    }
   ],
   "source": [
    "print(training[0])"
   ]
  },
  {
   "cell_type": "code",
   "execution_count": null,
   "metadata": {},
   "outputs": [],
   "source": []
  }
 ],
 "metadata": {
  "kernelspec": {
   "display_name": "Python 3.8.10 64-bit",
   "language": "python",
   "name": "python3"
  },
  "language_info": {
   "codemirror_mode": {
    "name": "ipython",
    "version": 3
   },
   "file_extension": ".py",
   "mimetype": "text/x-python",
   "name": "python",
   "nbconvert_exporter": "python",
   "pygments_lexer": "ipython3",
   "version": "3.8.10"
  },
  "orig_nbformat": 4,
  "vscode": {
   "interpreter": {
    "hash": "8c9d00ddaa79aa68c3a541f4a79b3085c4c0d74dc6caab7ebd7301921f5b4803"
   }
  }
 },
 "nbformat": 4,
 "nbformat_minor": 2
}
