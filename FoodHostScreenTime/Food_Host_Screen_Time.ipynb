{
 "cells": [
  {
   "cell_type": "markdown",
   "metadata": {},
   "source": [
    "# Face Detector (work in progress)\n",
    "### Testing face detector using \"face_angles.jpg\""
   ]
  },
  {
   "cell_type": "code",
   "execution_count": 13,
   "metadata": {},
   "outputs": [
    {
     "data": {
      "text/plain": [
       "'c:\\\\Users\\\\brian\\\\Desktop\\\\PYUM\\\\P-YUM\\\\face_angles.jpg'"
      ]
     },
     "execution_count": 13,
     "metadata": {},
     "output_type": "execute_result"
    }
   ],
   "source": [
    "# getting image path\n",
    "# try with flowers.jpg as well (doesn't have any faces)\n",
    "from pathlib import Path\n",
    "current = %pwd\n",
    "path = Path(current)\n",
    "imagePath = str(path.parent.absolute())\n",
    "image_name = \"face_angles.jpg\"\n",
    "imagePath += '\\\\' + image_name\n",
    "imagePath\n"
   ]
  },
  {
   "cell_type": "code",
   "execution_count": 14,
   "metadata": {},
   "outputs": [],
   "source": [
    "cascPath = \"haarcascade_frontalface_default.xml\"\n",
    "cascPath_m = \"haarcascade_mouth.xml\"\n",
    "cascPath_e = \"haarcascade_eye.xml\"\n"
   ]
  },
  {
   "cell_type": "code",
   "execution_count": 15,
   "metadata": {},
   "outputs": [],
   "source": [
    "import cv2\n"
   ]
  },
  {
   "cell_type": "code",
   "execution_count": 16,
   "metadata": {},
   "outputs": [],
   "source": [
    "# Create the haar cascade\n",
    "faceCascade = cv2.CascadeClassifier(cascPath)\n",
    "mouthCascade = cv2.CascadeClassifier(cascPath_m)\n",
    "eyeCascade = cv2.CascadeClassifier(cascPath_e)\n",
    "\n",
    "# Read the image\n",
    "image = cv2.imread(imagePath)\n",
    "gray = cv2.cvtColor(image, cv2.COLOR_BGR2GRAY)\n",
    "\n",
    "# Detect faces in the image\n",
    "faces = faceCascade.detectMultiScale(\n",
    "    gray,\n",
    "    scaleFactor=1.1,\n",
    "    minNeighbors=5,\n",
    "    minSize=(30, 30),\n",
    "    flags=cv2.CASCADE_SCALE_IMAGE\n",
    ")\n",
    "\n",
    "mouths = mouthCascade.detectMultiScale(\n",
    "    gray,\n",
    "    scaleFactor=1.1,\n",
    "    minNeighbors=5,\n",
    "    minSize=(30, 30),\n",
    "    flags=cv2.CASCADE_SCALE_IMAGE\n",
    ")\n",
    "\n",
    "eyes = eyeCascade.detectMultiScale(\n",
    "    gray,\n",
    "    scaleFactor=1.1,\n",
    "    minNeighbors=5,\n",
    "    minSize=(30, 30),\n",
    "    flags=cv2.CASCADE_SCALE_IMAGE\n",
    ")\n"
   ]
  },
  {
   "cell_type": "code",
   "execution_count": 17,
   "metadata": {},
   "outputs": [
    {
     "name": "stdout",
     "output_type": "stream",
     "text": [
      "Found 9 faces!\n",
      "Found 22 mouths!\n",
      "Found 13 eyes!\n"
     ]
    }
   ],
   "source": [
    "print(\"Found {0} faces!\".format(len(faces)))\n",
    "\n",
    "# Draw a rectangle around the faces\n",
    "for (x, y, w, h) in faces:\n",
    "    cv2.rectangle(image, (x, y), (x+w, y+h), (0, 255, 0), 2)\n",
    "\n",
    "print(\"Found {0} mouths!\".format(len(mouths)))\n",
    "\n",
    "# Draw a rectangle around the mouths\n",
    "for (x, y, w, h) in mouths:\n",
    "    cv2.rectangle(image, (x, y), (x+w, y+h), (255, 0, 0), 2)\n",
    "\n",
    "print(\"Found {0} eyes!\".format(len(eyes)))\n",
    "\n",
    "# Draw a rectangle around the eyes\n",
    "for (x, y, w, h) in eyes:\n",
    "    cv2.rectangle(image, (x, y), (x+w, y+h), (0, 0, 255), 2)\n"
   ]
  },
  {
   "cell_type": "code",
   "execution_count": 18,
   "metadata": {},
   "outputs": [],
   "source": [
    "# input two rectangles\n",
    "def temp_contains(R1, R2):\n",
    "\n",
    "    # recalculating the sides from (x1, y1, width, height)\n",
    "    # to (x1, y1, x2, y2)\n",
    "    R1X2 = R1[0] + R1[2]\n",
    "    R1Y2 = R1[1] + R1[3]\n",
    "    R2X2 = R2[0] + R2[2]\n",
    "    R2Y2 = R2[1] + R2[3]\n",
    "\n",
    "    new_x1 = min(R1[0], R2[0])\n",
    "    new_x2 = max(R1X2, R2X2) - new_x1  # width\n",
    "    new_y1 = min(R1[1], R2[1])\n",
    "    new_y2 = max(R1Y2, R2Y2) - new_y1  # height\n",
    "\n",
    "    New_rect = [new_x1, new_y1, new_x2, new_y2]\n",
    "\n",
    "    if (R1[0] >= R2X2) or (R1X2 <= R2[0]) or (R1Y2 <= R2[1]) or (R1[1] >= R2Y2):\n",
    "        # not valid. not contained!\n",
    "        return False, []\n",
    "    else:\n",
    "        # valid. contains\n",
    "        return True, New_rect\n"
   ]
  },
  {
   "cell_type": "code",
   "execution_count": 19,
   "metadata": {},
   "outputs": [],
   "source": [
    "for face in faces:\n",
    "    for mouth in mouths:\n",
    "        Valid, mesh_rect = temp_contains(face, mouth)\n",
    "        if Valid:\n",
    "            for eye in eyes:\n",
    "                second_Valid, new_mesh_rect = temp_contains(mesh_rect, eye)\n",
    "                if second_Valid:\n",
    "                    x = new_mesh_rect[0]\n",
    "                    y = new_mesh_rect[1]\n",
    "                    w = new_mesh_rect[2]\n",
    "                    h = new_mesh_rect[3]\n",
    "                    cv2.rectangle(image, (x, y), (x+w, y+h), (0, 0, 0), 2)\n"
   ]
  },
  {
   "cell_type": "code",
   "execution_count": 20,
   "metadata": {},
   "outputs": [
    {
     "data": {
      "text/plain": [
       "-1"
      ]
     },
     "execution_count": 20,
     "metadata": {},
     "output_type": "execute_result"
    }
   ],
   "source": [
    "# runs reasonably well\n",
    "# notice how it doesn't really work on faces that are turned 90 degrees.\n",
    "\n",
    "cv2.imshow(\"Features found\", image)\n",
    "cv2.waitKey(0)\n"
   ]
  },
  {
   "cell_type": "markdown",
   "metadata": {},
   "source": [
    "# Face As A Percentage of the Video"
   ]
  },
  {
   "cell_type": "code",
   "execution_count": 9,
   "metadata": {},
   "outputs": [
    {
     "data": {
      "text/plain": [
       "'c:\\\\Users\\\\brian\\\\Desktop\\\\PYUM\\\\P-YUM\\\\American Grilled Cheese Vs. French Grilled Cheese.mp4'"
      ]
     },
     "execution_count": 9,
     "metadata": {},
     "output_type": "execute_result"
    }
   ],
   "source": [
    "# first, get the path of the video in question\n",
    "# getting video path\n",
    "from pathlib import Path\n",
    "current = %pwd\n",
    "path = Path(current)\n",
    "filename = str(path.parent.absolute())\n",
    "video_name = \"American Grilled Cheese Vs. French Grilled Cheese.mp4\"\n",
    "# video_name = \"Binging with Babish_ Patrick's Briefcase from SpongeBob SquarePants.mp4\"\n",
    "filename += '\\\\' + video_name\n",
    "filename\n"
   ]
  },
  {
   "cell_type": "code",
   "execution_count": 10,
   "metadata": {},
   "outputs": [],
   "source": [
    "import cv2\n",
    "import numpy as np\n"
   ]
  },
  {
   "cell_type": "code",
   "execution_count": 11,
   "metadata": {},
   "outputs": [],
   "source": [
    "# input two rectangles\n",
    "def contains(R1, R2):\n",
    "\n",
    "    # recalculating the sides from (x1, y1, width, height)\n",
    "    # to (x1, y1, x2, y2)\n",
    "    R1X2 = R1[0] + R1[2]\n",
    "    R1Y2 = R1[1] + R1[3]\n",
    "    R2X2 = R2[0] + R2[2]\n",
    "    R2Y2 = R2[1] + R2[3]\n",
    "\n",
    "    new_x1 = min(R1[0], R2[0])\n",
    "    new_x2 = max(R1X2, R2X2) - new_x1  # width\n",
    "    new_y1 = min(R1[1], R2[1])\n",
    "    new_y2 = max(R1Y2, R2Y2) - new_y1  # height\n",
    "\n",
    "    New_rect = [new_x1, new_y1, new_x2, new_y2]\n",
    "\n",
    "    if (R1[0] >= R2X2) or (R1X2 <= R2[0]) or (R1Y2 <= R2[1]) or (R1[1] >= R2Y2):\n",
    "        # not valid. not contained!\n",
    "        return False, []\n",
    "    else:\n",
    "        # valid. contains\n",
    "        return True, New_rect\n"
   ]
  },
  {
   "cell_type": "code",
   "execution_count": 12,
   "metadata": {},
   "outputs": [],
   "source": [
    "def face_detector(image):\n",
    "\n",
    "    max_pixels = 0\n",
    "    return_me = False\n",
    "\n",
    "    cascPath = \"haarcascade_frontalface_default.xml\"\n",
    "    cascPath_m = \"haarcascade_mouth.xml\"\n",
    "    cascPath_e = \"haarcascade_eye.xml\"\n",
    "\n",
    "    faceCascade = cv2.CascadeClassifier(cascPath)\n",
    "    mouthCascade = cv2.CascadeClassifier(cascPath_m)\n",
    "    eyeCascade = cv2.CascadeClassifier(cascPath_e)\n",
    "\n",
    "    # Read the image\n",
    "    gray = cv2.cvtColor(image, cv2.COLOR_BGR2GRAY)\n",
    "\n",
    "    faces = faceCascade.detectMultiScale(\n",
    "        gray,\n",
    "        scaleFactor=1.3,\n",
    "        minNeighbors=5,\n",
    "        minSize=(30, 30),\n",
    "        flags=cv2.CASCADE_SCALE_IMAGE\n",
    "    )\n",
    "\n",
    "    mouths = mouthCascade.detectMultiScale(\n",
    "        gray,\n",
    "        scaleFactor=1.1,\n",
    "        minNeighbors=5,\n",
    "        minSize=(30, 30),\n",
    "        flags=cv2.CASCADE_SCALE_IMAGE\n",
    "    )\n",
    "\n",
    "    eyes = eyeCascade.detectMultiScale(\n",
    "        gray,\n",
    "        scaleFactor=1.1,\n",
    "        minNeighbors=5,\n",
    "        minSize=(30, 30),\n",
    "        flags=cv2.CASCADE_SCALE_IMAGE\n",
    "    )\n",
    "\n",
    "    # yuck. if you can make this faster, go ahead\n",
    "    # makes sure the face, mouth, and eye rectangles contain each other.\n",
    "    # This ensures a face\n",
    "    for face in faces:\n",
    "        for mouth in mouths:\n",
    "            Valid, mesh_rect = contains(face, mouth)\n",
    "            if Valid:\n",
    "                for eye in eyes:\n",
    "                    second_Valid, new_mesh_rect = contains(mesh_rect, eye)\n",
    "\n",
    "                    if second_Valid:\n",
    "                        return_me = True\n",
    "                        width = new_mesh_rect[2]\n",
    "                        height = new_mesh_rect[3]\n",
    "                        if width * height > max_pixels:\n",
    "                            max_pixels = width * height\n",
    "                        # cv2.rectangle(image, (x, y), (x+w, y+h), (0, 0, 0), 2)\n",
    "\n",
    "    return return_me, max_pixels * 100 / (image.shape[0] * image.shape[1])\n"
   ]
  },
  {
   "cell_type": "code",
   "execution_count": 13,
   "metadata": {},
   "outputs": [],
   "source": [
    "# input: the video file\n",
    "# output: length of video file in seconds\n",
    "\n",
    "def find_video_length(video):\n",
    "\n",
    "    fps = video.get(cv2.CAP_PROP_FPS)\n",
    "    frame_count = video.get(cv2.CAP_PROP_FRAME_COUNT)\n",
    "\n",
    "    return frame_count / fps, fps\n"
   ]
  },
  {
   "cell_type": "code",
   "execution_count": 14,
   "metadata": {},
   "outputs": [],
   "source": [
    "def face_percentage(filename):\n",
    "\n",
    "    face_by_seconds = []\n",
    "    face_size_of_screen = []\n",
    "\n",
    "    # person_counter counts number of frames person was in shot\n",
    "    person_counter = 0\n",
    "    # no_person_counter counts number of frames where person is not in shot\n",
    "    no_person_counter = 0\n",
    "\n",
    "    my_video = cv2.VideoCapture(filename)\n",
    "    if (my_video.isOpened() == False):\n",
    "        print(\"Error opening video stream or file\")\n",
    "\n",
    "    _, video_fps = find_video_length(my_video)\n",
    "\n",
    "    nth_frame = video_fps // 2\n",
    "    frame_counter = 0\n",
    "\n",
    "    while (my_video.isOpened()):\n",
    "\n",
    "        ret, frame = my_video.read()\n",
    "        if frame_counter % nth_frame == 0:\n",
    "\n",
    "            # Capture frame-by-frame\n",
    "            if ret == True:\n",
    "                has_face, percentage = face_detector(frame)\n",
    "                if has_face:\n",
    "                    face_by_seconds.append(frame_counter / video_fps)\n",
    "                    face_size_of_screen.append(percentage)\n",
    "                    person_counter += 1\n",
    "                else:\n",
    "                    no_person_counter += 1\n",
    "            else:\n",
    "                break\n",
    "\n",
    "        if ret == False:\n",
    "            break\n",
    "\n",
    "        frame_counter += 1\n",
    "\n",
    "    percentage_of_face_in_video = (\n",
    "        person_counter * 100) / (no_person_counter + person_counter)\n",
    "\n",
    "    return percentage_of_face_in_video, face_by_seconds, face_size_of_screen\n"
   ]
  },
  {
   "cell_type": "code",
   "execution_count": 15,
   "metadata": {},
   "outputs": [],
   "source": [
    "face_percentage, face_time, face_size = face_percentage(filename)\n"
   ]
  },
  {
   "cell_type": "code",
   "execution_count": 24,
   "metadata": {},
   "outputs": [
    {
     "data": {
      "text/plain": [
       "31.0"
      ]
     },
     "execution_count": 24,
     "metadata": {},
     "output_type": "execute_result"
    }
   ],
   "source": [
    "face_time[-1] // 10 + 1\n"
   ]
  },
  {
   "cell_type": "code",
   "execution_count": 27,
   "metadata": {},
   "outputs": [
    {
     "data": {
      "text/plain": [
       "[0, 0, 0, 0, 0]"
      ]
     },
     "execution_count": 27,
     "metadata": {},
     "output_type": "execute_result"
    }
   ],
   "source": [
    "a = [0] * 5\n",
    "a\n"
   ]
  },
  {
   "cell_type": "code",
   "execution_count": 34,
   "metadata": {},
   "outputs": [
    {
     "name": "stdout",
     "output_type": "stream",
     "text": [
      "31\n",
      "[10, 3, 9, 12, 12, 9, 0, 0, 0, 0, 0, 0, 0, 1, 0, 0, 0, 0, 0, 0, 0, 0, 0, 4, 5, 8, 1, 15, 0, 5, 4]\n"
     ]
    }
   ],
   "source": [
    "def cluster_by_seconds(face_time_arr, cluster_time):\n",
    "    time_segments = int(face_time_arr[-1] // cluster_time + 1)\n",
    "    cluster_array = [0] * time_segments\n",
    "    print(time_segments)\n",
    "    for time in face_time_arr:\n",
    "        cluster_array[int(time // cluster_time)] += 1\n",
    "    return cluster_array\n"
   ]
  },
  {
   "cell_type": "code",
   "execution_count": 56,
   "metadata": {},
   "outputs": [
    {
     "name": "stdout",
     "output_type": "stream",
     "text": [
      "31\n"
     ]
    },
    {
     "data": {
      "image/png": "[encoded data removed]",
      "text/plain": [
       "<Figure size 432x288 with 1 Axes>"
      ]
     },
     "metadata": {
      "needs_background": "light"
     },
     "output_type": "display_data"
    }
   ],
   "source": [
    "import matplotlib.pyplot as plt\n",
    "\n",
    "cluster_time = 10\n",
    "ten_sec_cluster = cluster_by_seconds(face_time, cluster_time)\n",
    "\n",
    "fig = plt.figure()\n",
    "ax = fig.add_axes([0, 0, 3, 1])\n",
    "time_intervals = []\n",
    "for i in range(len(ten_sec_cluster)):\n",
    "    time_intervals.append(\n",
    "        f\"{i * cluster_time}-{i * cluster_time + cluster_time} sec\")\n",
    "ax.bar(time_intervals, ten_sec_cluster)\n",
    "ax.tick_params(axis='x', labelrotation=45)\n",
    "\n",
    "plt.show()\n"
   ]
  },
  {
   "cell_type": "code",
   "execution_count": null,
   "metadata": {},
   "outputs": [],
   "source": []
  }
 ],
 "metadata": {
  "kernelspec": {
   "display_name": "Python 3.10.5 64-bit",
   "language": "python",
   "name": "python3"
  },
  "language_info": {
   "codemirror_mode": {
    "name": "ipython",
    "version": 3
   },
   "file_extension": ".py",
   "mimetype": "text/x-python",
   "name": "python",
   "nbconvert_exporter": "python",
   "pygments_lexer": "ipython3",
   "version": "3.10.5"
  },
  "orig_nbformat": 4,
  "vscode": {
   "interpreter": {
    "hash": "51923b56f38a5b3424ee861e1200c08869906ff2215aafed0340f54392de6f99"
   }
  }
 },
 "nbformat": 4,
 "nbformat_minor": 2
}
